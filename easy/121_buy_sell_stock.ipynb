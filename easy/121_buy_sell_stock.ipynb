{
 "cells": [
  {
   "cell_type": "code",
   "execution_count": 32,
   "id": "ee56e73a",
   "metadata": {},
   "outputs": [],
   "source": [
    "prices = [2,4,1]"
   ]
  },
  {
   "cell_type": "code",
   "execution_count": 53,
   "id": "0488f295",
   "metadata": {},
   "outputs": [],
   "source": [
    "def maxProfit(prices):\n",
    "    min_price = min(prices)\n",
    "    print(min_price)\n",
    "\n",
    "    for i in range(len(prices) + 1):\n",
    "        if min_price == prices[i]:\n",
    "            min_price_idx = i\n",
    "            break\n",
    "    \n",
    "    print(min_price_idx)\n",
    "    rest_of_week = prices[min_price_idx - 1::]\n",
    "    print(rest_of_week)\n",
    "\n",
    "    if rest_of_week == []:\n",
    "        return 0\n",
    "    else:\n",
    "        return max(rest_of_week) - min_price"
   ]
  },
  {
   "cell_type": "code",
   "execution_count": 54,
   "id": "7f6a9b66",
   "metadata": {},
   "outputs": [
    {
     "name": "stdout",
     "output_type": "stream",
     "text": [
      "1\n",
      "2\n",
      "[4, 1]\n"
     ]
    },
    {
     "data": {
      "text/plain": [
       "3"
      ]
     },
     "execution_count": 54,
     "metadata": {},
     "output_type": "execute_result"
    }
   ],
   "source": [
    "maxProfit(prices)"
   ]
  }
 ],
 "metadata": {
  "kernelspec": {
   "display_name": "base",
   "language": "python",
   "name": "python3"
  },
  "language_info": {
   "codemirror_mode": {
    "name": "ipython",
    "version": 3
   },
   "file_extension": ".py",
   "mimetype": "text/x-python",
   "name": "python",
   "nbconvert_exporter": "python",
   "pygments_lexer": "ipython3",
   "version": "3.13.5"
  }
 },
 "nbformat": 4,
 "nbformat_minor": 5
}
